{
 "cells": [
  {
   "cell_type": "code",
   "execution_count": 8,
   "id": "9c321c5a",
   "metadata": {},
   "outputs": [
    {
     "name": "stdout",
     "output_type": "stream",
     "text": [
      "len(words)=32033\n",
      "words[:5]=['emma', 'olivia', 'ava', 'isabella', 'sophia']\n"
     ]
    }
   ],
   "source": [
    "# load dataset\n",
    "\n",
    "words = open('names.txt', 'r').read().splitlines()\n",
    "\n",
    "print(f'{len(words)=}')\n",
    "print(f'{words[:5]=}')"
   ]
  },
  {
   "cell_type": "code",
   "execution_count": null,
   "id": "3e7260e5",
   "metadata": {},
   "outputs": [],
   "source": [
    "# prepare dataset\n",
    "\n",
    "inputs/X -> Labels/Y\n",
    "\n",
    "... -> e\n",
    "..e -> m\n",
    ".em -> m\n",
    "emm -> a\n",
    "mma -> .\n",
    "\n",
    "\n",
    "\n",
    "# dimensions\n",
    "\n",
    "a -> [0.001, 0.0321]\n",
    "b -> [0.009, 0.0056]\n",
    "...\n",
    ". -> [0.004, 0.0042]\n"
   ]
  },
  {
   "cell_type": "code",
   "execution_count": null,
   "id": "dd878186",
   "metadata": {},
   "outputs": [],
   "source": [
    "\n",
    "# train\n",
    "\n",
    "\n",
    "# sample"
   ]
  }
 ],
 "metadata": {
  "kernelspec": {
   "display_name": "env (3.12.3)",
   "language": "python",
   "name": "python3"
  },
  "language_info": {
   "codemirror_mode": {
    "name": "ipython",
    "version": 3
   },
   "file_extension": ".py",
   "mimetype": "text/x-python",
   "name": "python",
   "nbconvert_exporter": "python",
   "pygments_lexer": "ipython3",
   "version": "3.12.3"
  }
 },
 "nbformat": 4,
 "nbformat_minor": 5
}

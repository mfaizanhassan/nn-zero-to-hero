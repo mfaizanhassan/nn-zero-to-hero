{
 "cells": [
  {
   "cell_type": "code",
   "execution_count": 399,
   "id": "9e956963",
   "metadata": {},
   "outputs": [],
   "source": [
    "words = open('names.txt', 'r').read().splitlines()"
   ]
  },
  {
   "cell_type": "code",
   "execution_count": 400,
   "id": "780c104b",
   "metadata": {},
   "outputs": [
    {
     "data": {
      "text/plain": [
       "27"
      ]
     },
     "execution_count": 400,
     "metadata": {},
     "output_type": "execute_result"
    }
   ],
   "source": [
    "\n",
    "\n",
    "chars = sorted(list(set(\"\".join(words))))\n",
    "\n",
    "stoi = {c: i+1 for i, c in enumerate(chars)}\n",
    "stoi[\".\"] = 0\n",
    "itos = {i: c for c, i in stoi.items()}\n",
    "\n",
    "len_chars = len(stoi)\n",
    "len_chars"
   ]
  },
  {
   "cell_type": "code",
   "execution_count": 401,
   "id": "df224727",
   "metadata": {},
   "outputs": [],
   "source": [
    "import torch\n",
    "\n",
    "N = torch.zeros((len_chars, len_chars), dtype=torch.int32)\n",
    "\n",
    "for word in words:\n",
    "    chs = [\".\"] + list(word) + [\".\"]\n",
    "    # print(word)\n",
    "    for ch1, ch2 in zip(chs, chs[1:]):\n",
    "        stoi1 = stoi[ch1]\n",
    "        stoi2 = stoi[ch2]\n",
    "        N[stoi1][stoi2] += 1\n",
    "        # print(f\"{ch1} - {stoi1}, {ch2} - {stoi2}\")"
   ]
  },
  {
   "cell_type": "code",
   "execution_count": 402,
   "id": "b62f633e",
   "metadata": {},
   "outputs": [],
   "source": [
    "p = N / N.sum(dim=1, keepdim=True)"
   ]
  },
  {
   "cell_type": "code",
   "execution_count": 403,
   "id": "fce0ce2d",
   "metadata": {},
   "outputs": [
    {
     "data": {
      "text/plain": [
       "<torch._C.Generator at 0x79839bfb4970>"
      ]
     },
     "execution_count": 403,
     "metadata": {},
     "output_type": "execute_result"
    }
   ],
   "source": [
    "torch.manual_seed(2147483647)"
   ]
  },
  {
   "cell_type": "code",
   "execution_count": 404,
   "id": "7b7da32c",
   "metadata": {},
   "outputs": [
    {
     "name": "stdout",
     "output_type": "stream",
     "text": [
      "cexze.\n",
      "momasurailezitynn.\n",
      "konimittain.\n",
      "llayn.\n",
      "ka.\n",
      "da.\n",
      "staiyaubrtthrigotai.\n",
      "moliellavo.\n",
      "ke.\n",
      "teda.\n"
     ]
    }
   ],
   "source": [
    "for i in range(10):\n",
    "    ix = 0\n",
    "    outs = []\n",
    "    while True:\n",
    "        ix = torch.multinomial(p[ix], num_samples=1, replacement=True).item()\n",
    "        outs.append(itos[ix])\n",
    "        if ix == 0:\n",
    "            break\n",
    "    print(''.join(outs))"
   ]
  }
 ],
 "metadata": {
  "kernelspec": {
   "display_name": "env",
   "language": "python",
   "name": "python3"
  },
  "language_info": {
   "codemirror_mode": {
    "name": "ipython",
    "version": 3
   },
   "file_extension": ".py",
   "mimetype": "text/x-python",
   "name": "python",
   "nbconvert_exporter": "python",
   "pygments_lexer": "ipython3",
   "version": "3.12.3"
  }
 },
 "nbformat": 4,
 "nbformat_minor": 5
}

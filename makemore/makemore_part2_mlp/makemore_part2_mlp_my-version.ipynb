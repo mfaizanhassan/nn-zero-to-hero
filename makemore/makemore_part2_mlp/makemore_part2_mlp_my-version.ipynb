{
 "cells": [
  {
   "cell_type": "code",
   "execution_count": 1101,
   "id": "9c321c5a",
   "metadata": {},
   "outputs": [
    {
     "name": "stdout",
     "output_type": "stream",
     "text": [
      "len(words)=32033\n",
      "words[:5]=['emma', 'olivia', 'ava', 'isabella', 'sophia']\n"
     ]
    }
   ],
   "source": [
    "# load dataset\n",
    "\n",
    "words = open('names.txt', 'r').read().splitlines()\n",
    "\n",
    "print(f'{len(words)=}')\n",
    "print(f'{words[:5]=}')"
   ]
  },
  {
   "cell_type": "code",
   "execution_count": 1102,
   "id": "ffec528a",
   "metadata": {},
   "outputs": [
    {
     "name": "stdout",
     "output_type": "stream",
     "text": [
      "stoi={'.': 0, 'a': 1, 'b': 2, 'c': 3, 'd': 4, 'e': 5, 'f': 6, 'g': 7, 'h': 8, 'i': 9, 'j': 10, 'k': 11, 'l': 12, 'm': 13, 'n': 14, 'o': 15, 'p': 16, 'q': 17, 'r': 18, 's': 19, 't': 20, 'u': 21, 'v': 22, 'w': 23, 'x': 24, 'y': 25, 'z': 26}\n",
      "itos={0: '.', 1: 'a', 2: 'b', 3: 'c', 4: 'd', 5: 'e', 6: 'f', 7: 'g', 8: 'h', 9: 'i', 10: 'j', 11: 'k', 12: 'l', 13: 'm', 14: 'n', 15: 'o', 16: 'p', 17: 'q', 18: 'r', 19: 's', 20: 't', 21: 'u', 22: 'v', 23: 'w', 24: 'x', 25: 'y', 26: 'z'}\n"
     ]
    }
   ],
   "source": [
    "chars = list('.') + sorted(set(''.join(words)))\n",
    "stoi = {s: i for i, s in enumerate(chars) }\n",
    "# stoi['.'] = 0\n",
    "itos = {i: s for s, i in stoi.items()}\n",
    "\n",
    "print(f'{stoi=}')\n",
    "print(f'{itos=}')\n"
   ]
  },
  {
   "cell_type": "code",
   "execution_count": 1103,
   "id": "3e7260e5",
   "metadata": {},
   "outputs": [
    {
     "data": {
      "text/plain": [
       "'\\n# prepare dataset\\n\\ninputs/X -> Labels/Y\\n\\n... -> e\\n..e -> m\\n.em -> m\\nemm -> a\\nmma -> .\\n\\n\\n\\n# dimensions\\n\\na -> [0.001, 0.0321]\\nb -> [0.009, 0.0056]\\n...\\ne -> [0.003, 0.0038]\\n...\\n. -> [0.004, 0.0042]\\n\\n\\n\\n\\n# example forward pass\\n\\nl1 = [0.004, 0.0042, 0.004, 0.0042, 0.003, 0.0038] @ W1 # where [0.004, 0.0042, 0.004, 0.0042, 0.003, 0.0038] = [..e]\\nl2 = tanh(l1 @ W2) + b\\nl3 = softmax(l2)\\n\\n'"
      ]
     },
     "execution_count": 1103,
     "metadata": {},
     "output_type": "execute_result"
    }
   ],
   "source": [
    "\"\"\"\n",
    "# prepare dataset\n",
    "\n",
    "inputs/X -> Labels/Y\n",
    "\n",
    "... -> e\n",
    "..e -> m\n",
    ".em -> m\n",
    "emm -> a\n",
    "mma -> .\n",
    "\n",
    "\n",
    "\n",
    "# dimensions\n",
    "\n",
    "a -> [0.001, 0.0321]\n",
    "b -> [0.009, 0.0056]\n",
    "...\n",
    "e -> [0.003, 0.0038]\n",
    "...\n",
    ". -> [0.004, 0.0042]\n",
    "\n",
    "\n",
    "\n",
    "\n",
    "# example forward pass\n",
    "\n",
    "l1 = [0.004, 0.0042, 0.004, 0.0042, 0.003, 0.0038] @ W1 # where [0.004, 0.0042, 0.004, 0.0042, 0.003, 0.0038] = [..e]\n",
    "l2 = tanh(l1 @ W2) + b\n",
    "l3 = softmax(l2)\n",
    "\n",
    "\"\"\""
   ]
  },
  {
   "cell_type": "code",
   "execution_count": 1104,
   "id": "dd878186",
   "metadata": {},
   "outputs": [],
   "source": [
    "# data preperation\n",
    "\n",
    "import torch\n",
    "\n",
    "X, Y = [], []\n",
    "block_size = 3\n",
    "\n",
    "for w in words:\n",
    "    context = [0] * block_size\n",
    "    \n",
    "    for ch in w + '.':\n",
    "        ix = stoi[ch]\n",
    "        X.append(context)\n",
    "        Y.append(ix)\n",
    "\n",
    "        # print(f'{context=} -> {ix}')\n",
    "        # print(f'{[itos[i] for i in context]} -> {ch}')\n",
    "        \n",
    "        context = context[1:] + [ix]\n",
    "\n",
    "X = torch.tensor(X)\n",
    "Y = torch.tensor(Y)"
   ]
  },
  {
   "cell_type": "code",
   "execution_count": 1105,
   "id": "a2e15999",
   "metadata": {},
   "outputs": [
    {
     "name": "stdout",
     "output_type": "stream",
     "text": [
      "torch.Size([228146, 6])\n"
     ]
    }
   ],
   "source": [
    "# embedding matrix\n",
    "\n",
    "embedding_size = 2\n",
    "C = torch.randn((len(chars), embedding_size))        # lookup embeddings\n",
    "emb = C[X]                                           # shape is _, 3, 2 ; here 3 is the context window, 2 is the embedding size\n",
    "\n",
    "\n",
    "# emb = torch.concat([emb[:, 0, :], emb[:, 1, :], emb[:, 2, :]], 1) # problem: its bound to the context size and we would need to manually extract the dimensions if we change the context size.\n",
    "# emb = torch.concat(torch.unbind(emb, 1), 1)  # problem: not memory efficient. Creates a new memory to to perform this operation.\n",
    "emb = emb.view(emb.shape[0], 6)\n",
    "\n",
    "print(emb.shape)\n",
    "\n",
    "W1 = torch.randn((6, 100))\n",
    "b1 = torch.tensor(100)\n"
   ]
  },
  {
   "cell_type": "code",
   "execution_count": 1106,
   "id": "bdf06255",
   "metadata": {},
   "outputs": [
    {
     "data": {
      "text/plain": [
       "torch.Size([228146, 100])"
      ]
     },
     "execution_count": 1106,
     "metadata": {},
     "output_type": "execute_result"
    }
   ],
   "source": [
    "h = torch.tanh(emb @ W1 + b1)\n",
    "\n",
    "h.shape"
   ]
  },
  {
   "cell_type": "code",
   "execution_count": 1107,
   "id": "127e8e8b",
   "metadata": {},
   "outputs": [
    {
     "data": {
      "text/plain": [
       "torch.Size([228146, 27])"
      ]
     },
     "execution_count": 1107,
     "metadata": {},
     "output_type": "execute_result"
    }
   ],
   "source": [
    "# output layer\n",
    "W2 = torch.randn((100, 27))\n",
    "h2 = torch.randn(27)\n",
    "logits = h @ W2 + h2\n",
    "logits.shape"
   ]
  },
  {
   "cell_type": "code",
   "execution_count": 1108,
   "id": "7e50ff71",
   "metadata": {},
   "outputs": [
    {
     "data": {
      "text/plain": [
       "torch.Size([228146, 27])"
      ]
     },
     "execution_count": 1108,
     "metadata": {},
     "output_type": "execute_result"
    }
   ],
   "source": [
    "counts = logits.exp()\n",
    "probs = counts / counts.sum(dim=1, keepdim=True)\n",
    "probs.shape"
   ]
  },
  {
   "cell_type": "code",
   "execution_count": 1109,
   "id": "3fee7edb",
   "metadata": {},
   "outputs": [],
   "source": [
    "# loss = -probs[torch.arange(32), Y].log().mean()"
   ]
  },
  {
   "cell_type": "code",
   "execution_count": 1110,
   "id": "0187b096",
   "metadata": {},
   "outputs": [],
   "source": [
    "# ------------------------ nice formatting ------------------------"
   ]
  },
  {
   "cell_type": "code",
   "execution_count": 1111,
   "id": "d1fc1ce5",
   "metadata": {},
   "outputs": [],
   "source": [
    "g = torch.Generator().manual_seed(2147483647)\n",
    "C = torch.randn((27, 2), generator=g)\n",
    "W1 = torch.randn((6, 100), generator=g)\n",
    "b1 = torch.randn(100, generator=g)\n",
    "W2 = torch.randn((100, 27), generator=g)\n",
    "b2 = torch.randn(27, generator=g)\n",
    "parameters = [C, W1, b1, W2, b2]"
   ]
  },
  {
   "cell_type": "code",
   "execution_count": 1112,
   "id": "67f91d57",
   "metadata": {},
   "outputs": [
    {
     "data": {
      "text/plain": [
       "3481"
      ]
     },
     "execution_count": 1112,
     "metadata": {},
     "output_type": "execute_result"
    }
   ],
   "source": [
    "sum(p.nelement() for p in parameters)"
   ]
  },
  {
   "cell_type": "code",
   "execution_count": 1113,
   "id": "920643e1",
   "metadata": {},
   "outputs": [],
   "source": [
    "for p in parameters:\n",
    "    p.requires_grad = True"
   ]
  },
  {
   "cell_type": "code",
   "execution_count": 1122,
   "id": "78b823d5",
   "metadata": {},
   "outputs": [
    {
     "name": "stdout",
     "output_type": "stream",
     "text": [
      "2.5517654418945312\n"
     ]
    }
   ],
   "source": [
    "import torch.nn.functional as F\n",
    "\n",
    "for _ in range(1):\n",
    "    # forward pass\n",
    "    emb = C[X]\n",
    "    h = torch.tanh(emb.view(-1, 6) @ W1 + b1)\n",
    "    logits = h @ W2 + b2\n",
    "    loss = F.cross_entropy(logits, Y)\n",
    "    loss\n",
    "\n",
    "    print(loss.item())\n",
    "\n",
    "    # backward pass\n",
    "    for p in parameters:\n",
    "        p.grad = None\n",
    "\n",
    "    loss.backward()\n",
    "\n",
    "    for p in parameters:\n",
    "        p.data += -0.1 * p.grad\n",
    "\n",
    "# loss"
   ]
  },
  {
   "cell_type": "code",
   "execution_count": 1123,
   "id": "e6d25c1c",
   "metadata": {},
   "outputs": [
    {
     "name": "stdout",
     "output_type": "stream",
     "text": [
      "careaheate.\n",
      "hlelhc.\n",
      "mrr.\n",
      "rehty.\n",
      "halan.\n",
      "keja.\n",
      "huen.\n",
      "dpeyyrt.\n",
      "kaeei.\n",
      "nerania.\n",
      "ceriiv.\n",
      "kalein.\n",
      "hham.\n",
      "poi.\n",
      "desinn.\n",
      "sroilea.\n",
      "jad.\n",
      "qirqaelo.\n",
      "dearyni.\n",
      "ji.\n"
     ]
    }
   ],
   "source": [
    "# sample from the model\n",
    "g = torch.Generator().manual_seed(2147483647 + 10)\n",
    "\n",
    "for _ in range(20):\n",
    "\n",
    "    out = []\n",
    "    context = [0] * block_size  # initialize with all ...\n",
    "    while True:\n",
    "        emb = C[torch.tensor(context)]  # (1, block_size, d)\n",
    "        h = torch.tanh(emb.view(1, -1) @ W1 + b1)\n",
    "        logits = h @ W2 + b2\n",
    "        probs = F.softmax(logits, dim=1)\n",
    "        ix = torch.multinomial(probs, num_samples=1, generator=g).item()\n",
    "        context = context[1:] + [ix]\n",
    "        out.append(ix)\n",
    "        if ix == 0:\n",
    "            break\n",
    "\n",
    "    print(''.join(itos[i] for i in out))\n"
   ]
  }
 ],
 "metadata": {
  "kernelspec": {
   "display_name": "env",
   "language": "python",
   "name": "python3"
  },
  "language_info": {
   "codemirror_mode": {
    "name": "ipython",
    "version": 3
   },
   "file_extension": ".py",
   "mimetype": "text/x-python",
   "name": "python",
   "nbconvert_exporter": "python",
   "pygments_lexer": "ipython3",
   "version": "3.12.3"
  }
 },
 "nbformat": 4,
 "nbformat_minor": 5
}

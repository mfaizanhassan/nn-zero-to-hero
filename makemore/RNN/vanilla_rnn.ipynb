{
 "cells": [
  {
   "cell_type": "code",
   "execution_count": null,
   "id": "0ac15896",
   "metadata": {},
   "outputs": [],
   "source": [
    "# General Notation of RNN\n",
    "\"\"\"\n",
    "where,\n",
    "- a is the activation\n",
    "- \n",
    "\n",
    "a(t) = g1(Waa @ a(t-1) + Wax @ x(t) + ba)\n",
    "yhat(t) = g2(Wya @ a(t) + by)\n",
    "\"\"\""
   ]
  },
  {
   "cell_type": "code",
   "execution_count": null,
   "id": "4f13d6f9",
   "metadata": {},
   "outputs": [],
   "source": [
    "class RNN():\n",
    "    Waa = None\n",
    "\n",
    "\n"
   ]
  }
 ],
 "metadata": {
  "language_info": {
   "name": "python"
  }
 },
 "nbformat": 4,
 "nbformat_minor": 5
}
